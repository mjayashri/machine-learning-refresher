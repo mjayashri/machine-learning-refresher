{
  "nbformat": 4,
  "nbformat_minor": 0,
  "metadata": {
    "colab": {
      "private_outputs": true,
      "provenance": [],
      "cell_execution_strategy": "setup",
      "authorship_tag": "ABX9TyPLolf8DajUIfezDh+R3Log",
      "include_colab_link": true
    },
    "kernelspec": {
      "name": "python3",
      "display_name": "Python 3"
    },
    "language_info": {
      "name": "python"
    }
  },
  "cells": [
    {
      "cell_type": "markdown",
      "metadata": {
        "id": "view-in-github",
        "colab_type": "text"
      },
      "source": [
        "<a href=\"https://colab.research.google.com/github/mjayashri/machine-learning-refresher/blob/main/pandas_refresher.ipynb\" target=\"_parent\"><img src=\"https://colab.research.google.com/assets/colab-badge.svg\" alt=\"Open In Colab\"/></a>"
      ]
    },
    {
      "cell_type": "markdown",
      "source": [
        "## Panda Series\n",
        "Panda series are similar to numpy array but it can have axis labels which can be number or any python object"
      ],
      "metadata": {
        "id": "F5Z-LZ_-PUDz"
      }
    },
    {
      "cell_type": "code",
      "source": [
        "import numpy as np\n",
        "import pandas as pd"
      ],
      "metadata": {
        "id": "aXf-2A7NR6e8"
      },
      "execution_count": null,
      "outputs": []
    },
    {
      "cell_type": "code",
      "source": [
        "help(pd.Series)"
      ],
      "metadata": {
        "id": "AkFTFYlWSdSt"
      },
      "execution_count": null,
      "outputs": []
    },
    {
      "cell_type": "markdown",
      "source": [
        "### Indexes and Data List"
      ],
      "metadata": {
        "id": "RjPHvxYmSkex"
      }
    },
    {
      "cell_type": "code",
      "source": [
        "indexx = [\"USA\", \"India\", \"China\"]\n",
        "data = [1000,2000,3000]"
      ],
      "metadata": {
        "id": "hBkDwLqkSvds"
      },
      "execution_count": null,
      "outputs": []
    },
    {
      "cell_type": "code",
      "source": [
        "my_series = pd.Series(data=data)"
      ],
      "metadata": {
        "id": "_QWYlN8XS8gB"
      },
      "execution_count": null,
      "outputs": []
    },
    {
      "cell_type": "code",
      "source": [
        "my_series"
      ],
      "metadata": {
        "id": "0Kuv449zTDiO"
      },
      "execution_count": null,
      "outputs": []
    },
    {
      "cell_type": "code",
      "source": [
        "pd.Series(data=data,index=indexx)"
      ],
      "metadata": {
        "id": "lJM8v-DpTE8V"
      },
      "execution_count": null,
      "outputs": []
    },
    {
      "cell_type": "code",
      "source": [
        "random_data = np.random.randint(0,10,3)"
      ],
      "metadata": {
        "id": "zkaMdGHeTNkx"
      },
      "execution_count": null,
      "outputs": []
    },
    {
      "cell_type": "code",
      "source": [
        "random_data"
      ],
      "metadata": {
        "id": "R4d3eGYqTV0m"
      },
      "execution_count": null,
      "outputs": []
    },
    {
      "cell_type": "code",
      "source": [
        "names = [\"A\",\"B\",\"C\"]\n",
        "names"
      ],
      "metadata": {
        "id": "b3TXGloHTXAz"
      },
      "execution_count": null,
      "outputs": []
    },
    {
      "cell_type": "code",
      "source": [
        "age_series = pd.Series(random_data,names)"
      ],
      "metadata": {
        "id": "oLy2tFLbTdJX"
      },
      "execution_count": null,
      "outputs": []
    },
    {
      "cell_type": "code",
      "source": [
        "age_series"
      ],
      "metadata": {
        "id": "nfXnlBIwThyC"
      },
      "execution_count": null,
      "outputs": []
    },
    {
      "cell_type": "markdown",
      "source": [
        "### From dictionary"
      ],
      "metadata": {
        "id": "TlWBE3S5Tjmd"
      }
    },
    {
      "cell_type": "code",
      "source": [
        "ages = {\"A\":10,\"B\":20,\"C\":30}"
      ],
      "metadata": {
        "id": "R4wQ0DccTtOh"
      },
      "execution_count": null,
      "outputs": []
    },
    {
      "cell_type": "code",
      "source": [
        "ages"
      ],
      "metadata": {
        "id": "YoOUBLgwUKFK"
      },
      "execution_count": null,
      "outputs": []
    },
    {
      "cell_type": "code",
      "source": [
        "pd.Series(ages)"
      ],
      "metadata": {
        "id": "uyxQkrpeUMyJ"
      },
      "execution_count": null,
      "outputs": []
    },
    {
      "cell_type": "markdown",
      "source": [
        "### Named Index"
      ],
      "metadata": {
        "id": "sphsJ7mMUOta"
      }
    },
    {
      "cell_type": "code",
      "source": [
        "q1 = { \"japan\": 80, \"china\": 450, \"india\": 200, \"usa\": 250 }\n",
        "q2 = { \"japan\": 100, \"china\": 500, \"india\": 210,\"Brazil\": 300 }\n",
        "\n",
        "sales_q1 = pd.Series(q1)\n",
        "sales_q2 = pd.Series(q2)"
      ],
      "metadata": {
        "id": "NVTBCmKfVBqV"
      },
      "execution_count": null,
      "outputs": []
    },
    {
      "cell_type": "code",
      "source": [
        "sales_q1"
      ],
      "metadata": {
        "id": "y9MNNfaXVQdM"
      },
      "execution_count": null,
      "outputs": []
    },
    {
      "cell_type": "code",
      "source": [
        "sales_q2[\"japan\"]"
      ],
      "metadata": {
        "id": "1heabEiSVSRC"
      },
      "execution_count": null,
      "outputs": []
    },
    {
      "cell_type": "code",
      "source": [
        "sales_q2[0]"
      ],
      "metadata": {
        "id": "DRoKKVENVWq3"
      },
      "execution_count": null,
      "outputs": []
    },
    {
      "cell_type": "markdown",
      "source": [
        "### Operations"
      ],
      "metadata": {
        "id": "1EbJX9DYVa0d"
      }
    },
    {
      "cell_type": "code",
      "source": [
        "sales_q1 * 3"
      ],
      "metadata": {
        "id": "o4Ntlq8BVg93"
      },
      "execution_count": null,
      "outputs": []
    },
    {
      "cell_type": "code",
      "source": [
        "sales_q1"
      ],
      "metadata": {
        "id": "QuwGDLBfVjOK"
      },
      "execution_count": null,
      "outputs": []
    },
    {
      "cell_type": "code",
      "source": [
        "sales_q1 / 10"
      ],
      "metadata": {
        "id": "_h6HChQaVlEr"
      },
      "execution_count": null,
      "outputs": []
    },
    {
      "cell_type": "markdown",
      "source": [
        "### Between Series"
      ],
      "metadata": {
        "id": "UpX9IZgJVn_E"
      }
    },
    {
      "cell_type": "code",
      "source": [
        "sales_q1 + sales_q2"
      ],
      "metadata": {
        "id": "lYnVmK7FVsy8"
      },
      "execution_count": null,
      "outputs": []
    },
    {
      "cell_type": "code",
      "source": [
        "sales_q1.add(sales_q2)"
      ],
      "metadata": {
        "id": "-xGaTKtQVwoL"
      },
      "execution_count": null,
      "outputs": []
    },
    {
      "cell_type": "code",
      "source": [
        "sales_q1.add(sales_q2, fill_value= 100)"
      ],
      "metadata": {
        "id": "_RUWCiMpV0aH"
      },
      "execution_count": null,
      "outputs": []
    },
    {
      "cell_type": "code",
      "source": [
        "sales_q1"
      ],
      "metadata": {
        "id": "BKchmgVkWKBy"
      },
      "execution_count": null,
      "outputs": []
    },
    {
      "cell_type": "code",
      "source": [],
      "metadata": {
        "id": "uoRXBRMqWiEC"
      },
      "execution_count": null,
      "outputs": []
    }
  ]
}