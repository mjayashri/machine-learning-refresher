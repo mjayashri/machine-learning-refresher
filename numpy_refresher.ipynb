{
  "nbformat": 4,
  "nbformat_minor": 0,
  "metadata": {
    "colab": {
      "private_outputs": true,
      "provenance": [],
      "authorship_tag": "ABX9TyMKg2yBVmcAfG3lt0H/JvuX",
      "include_colab_link": true
    },
    "kernelspec": {
      "name": "python3",
      "display_name": "Python 3"
    },
    "language_info": {
      "name": "python"
    }
  },
  "cells": [
    {
      "cell_type": "markdown",
      "metadata": {
        "id": "view-in-github",
        "colab_type": "text"
      },
      "source": [
        "<a href=\"https://colab.research.google.com/github/mjayashri/machine-learning-refresher/blob/main/numpy_refresher.ipynb\" target=\"_parent\"><img src=\"https://colab.research.google.com/assets/colab-badge.svg\" alt=\"Open In Colab\"/></a>"
      ]
    },
    {
      "cell_type": "markdown",
      "source": [
        "# Numpy"
      ],
      "metadata": {
        "id": "40K7gQ4DwuE0"
      }
    },
    {
      "cell_type": "code",
      "source": [
        "import numpy as np"
      ],
      "metadata": {
        "id": "m8aMHX7dvz8Y"
      },
      "execution_count": null,
      "outputs": []
    },
    {
      "cell_type": "code",
      "source": [
        "python_list = [1, 2, 3]\n",
        "numpy_array = np.array([1,2,3])"
      ],
      "metadata": {
        "id": "cR5Y_tDxwt38"
      },
      "execution_count": null,
      "outputs": []
    },
    {
      "cell_type": "code",
      "source": [
        "python_list, numpy_array"
      ],
      "metadata": {
        "id": "P6X7GtUIxgyz"
      },
      "execution_count": null,
      "outputs": []
    },
    {
      "cell_type": "code",
      "source": [
        "type(python_list), type(numpy_array)"
      ],
      "metadata": {
        "id": "GXto1Zj2xt0_"
      },
      "execution_count": null,
      "outputs": []
    },
    {
      "cell_type": "markdown",
      "source": [
        "### Numpy from Ojects"
      ],
      "metadata": {
        "id": "MC5pZUeAx1dM"
      }
    },
    {
      "cell_type": "code",
      "source": [
        "np.array(python_list)"
      ],
      "metadata": {
        "id": "xz_ueIqd0cPK"
      },
      "execution_count": null,
      "outputs": []
    },
    {
      "cell_type": "code",
      "source": [
        "my_matrix = [[1,2,3],[4,5,6],[7,8,9]]\n",
        "my_matrix"
      ],
      "metadata": {
        "id": "SOo5BwMt0hJa"
      },
      "execution_count": null,
      "outputs": []
    },
    {
      "cell_type": "code",
      "source": [
        "np.array(my_matrix)\n"
      ],
      "metadata": {
        "id": "sykblAne0pLb"
      },
      "execution_count": null,
      "outputs": []
    },
    {
      "cell_type": "code",
      "source": [
        "type(my_matrix)"
      ],
      "metadata": {
        "id": "TSenbLIG03b4"
      },
      "execution_count": null,
      "outputs": []
    },
    {
      "cell_type": "code",
      "source": [
        "type(np.array(my_matrix))\n"
      ],
      "metadata": {
        "id": "kx8GNYsc0ryC"
      },
      "execution_count": null,
      "outputs": []
    },
    {
      "cell_type": "markdown",
      "source": [
        "### Built-inm methods to create arrays"
      ],
      "metadata": {
        "id": "KD6xAyTs0zra"
      }
    },
    {
      "cell_type": "code",
      "source": [
        "np.arange(0,8)"
      ],
      "metadata": {
        "id": "d8mP51SE2_Jf"
      },
      "execution_count": null,
      "outputs": []
    },
    {
      "cell_type": "code",
      "source": [
        "np.arange(0,13,2)"
      ],
      "metadata": {
        "id": "oDT0f0SD3Cqb"
      },
      "execution_count": null,
      "outputs": []
    },
    {
      "cell_type": "code",
      "source": [
        "np.zeros(5)"
      ],
      "metadata": {
        "id": "18BrMM0L3Lfg"
      },
      "execution_count": null,
      "outputs": []
    },
    {
      "cell_type": "code",
      "source": [
        "np.zeros((5,5))"
      ],
      "metadata": {
        "id": "AZbXKscR3RmP"
      },
      "execution_count": null,
      "outputs": []
    },
    {
      "cell_type": "markdown",
      "source": [
        "### linspace (evenly spaced numbers over interval)"
      ],
      "metadata": {
        "id": "OiM_4z-Y3UDR"
      }
    },
    {
      "cell_type": "code",
      "source": [
        "np.linspace(0, 10, 5)"
      ],
      "metadata": {
        "id": "verWcNx03hIR"
      },
      "execution_count": null,
      "outputs": []
    },
    {
      "cell_type": "code",
      "source": [
        "np.linspace(0, 5, 20)"
      ],
      "metadata": {
        "id": "y_lQxZP43jkq"
      },
      "execution_count": null,
      "outputs": []
    },
    {
      "cell_type": "markdown",
      "source": [
        "### Identit matrix (eye)"
      ],
      "metadata": {
        "id": "aNutKagZ4Q19"
      }
    },
    {
      "cell_type": "code",
      "source": [
        "np.eye(3, 3)"
      ],
      "metadata": {
        "id": "O8MgCs6z4UnY"
      },
      "execution_count": null,
      "outputs": []
    },
    {
      "cell_type": "markdown",
      "source": [
        "### Random"
      ],
      "metadata": {
        "id": "DI3Yvxez4XAC"
      }
    },
    {
      "cell_type": "markdown",
      "source": [
        "### rand (random samples from uniform distribution)"
      ],
      "metadata": {
        "id": "gGBUJhGg4d2Q"
      }
    },
    {
      "cell_type": "code",
      "source": [
        "np.random.rand(4)"
      ],
      "metadata": {
        "id": "gfDncETU5M50"
      },
      "execution_count": null,
      "outputs": []
    },
    {
      "cell_type": "code",
      "source": [
        "np.random.rand(4,4)"
      ],
      "metadata": {
        "id": "Ne_7epR15PMf"
      },
      "execution_count": null,
      "outputs": []
    },
    {
      "cell_type": "markdown",
      "source": [
        "### randn (random samples from normal distribution)"
      ],
      "metadata": {
        "id": "feX3es5r5U3h"
      }
    },
    {
      "cell_type": "code",
      "source": [
        "np.random.randn(5)"
      ],
      "metadata": {
        "id": "ByYwZvnv5dFu"
      },
      "execution_count": null,
      "outputs": []
    },
    {
      "cell_type": "code",
      "source": [
        "np.random.randn(3,3)"
      ],
      "metadata": {
        "id": "vMgIhHcf5hhz"
      },
      "execution_count": null,
      "outputs": []
    },
    {
      "cell_type": "markdown",
      "source": [
        "### randint (random integer from low to high)"
      ],
      "metadata": {
        "id": "JeSIMAoA5lRy"
      }
    },
    {
      "cell_type": "code",
      "source": [
        "np.random.randint(1, 50)"
      ],
      "metadata": {
        "id": "_rc9Algq5riI"
      },
      "execution_count": null,
      "outputs": []
    },
    {
      "cell_type": "code",
      "source": [
        "np.random.randint(1,100,20)"
      ],
      "metadata": {
        "id": "6A1oIUmf5xNo"
      },
      "execution_count": null,
      "outputs": []
    },
    {
      "cell_type": "markdown",
      "source": [
        "### Seed (set random state, so each time same random results will be reproduced)"
      ],
      "metadata": {
        "id": "hoANC95r50xL"
      }
    },
    {
      "cell_type": "code",
      "source": [
        "np.random.seed(42)\n",
        "np.random.randn(5)"
      ],
      "metadata": {
        "id": "brcU5QUx6Puc"
      },
      "execution_count": null,
      "outputs": []
    },
    {
      "cell_type": "code",
      "source": [
        "np.random.seed(42)\n",
        "np.random.randn(5)"
      ],
      "metadata": {
        "id": "Ok5JtB646aqm"
      },
      "execution_count": null,
      "outputs": []
    },
    {
      "cell_type": "markdown",
      "source": [
        "### Numpy methods & attributes"
      ],
      "metadata": {
        "id": "expI0nBb6c1g"
      }
    },
    {
      "cell_type": "code",
      "source": [
        "arr = np.arange(30)\n",
        "randarr = np.random.randint(0, 50, 20)"
      ],
      "metadata": {
        "id": "5xnuN0PB64I-"
      },
      "execution_count": null,
      "outputs": []
    },
    {
      "cell_type": "code",
      "source": [
        "arr"
      ],
      "metadata": {
        "id": "hn26_WNC9uuy"
      },
      "execution_count": null,
      "outputs": []
    },
    {
      "cell_type": "code",
      "source": [
        "randarr"
      ],
      "metadata": {
        "id": "brhLfkUu92Po"
      },
      "execution_count": null,
      "outputs": []
    },
    {
      "cell_type": "markdown",
      "source": [
        "### Reshape"
      ],
      "metadata": {
        "id": "dAuzoBBM93UY"
      }
    },
    {
      "cell_type": "code",
      "source": [
        "arr.reshape(6, 5)"
      ],
      "metadata": {
        "id": "B0ynExIR96Xv"
      },
      "execution_count": null,
      "outputs": []
    },
    {
      "cell_type": "code",
      "source": [
        "### max, min, argmin, argmax"
      ],
      "metadata": {
        "id": "ulOnD72n-F_K"
      },
      "execution_count": null,
      "outputs": []
    },
    {
      "cell_type": "code",
      "source": [
        "randarr"
      ],
      "metadata": {
        "id": "uDJwk-Xy-Oz1"
      },
      "execution_count": null,
      "outputs": []
    },
    {
      "cell_type": "code",
      "source": [
        "randarr.max()"
      ],
      "metadata": {
        "id": "4jOJFBIC-QVE"
      },
      "execution_count": null,
      "outputs": []
    },
    {
      "cell_type": "code",
      "source": [
        "randarr.min()"
      ],
      "metadata": {
        "id": "oewWTggu-ei1"
      },
      "execution_count": null,
      "outputs": []
    },
    {
      "cell_type": "code",
      "source": [
        "randarr.argmax()"
      ],
      "metadata": {
        "id": "rAtb2Xjc-gK0"
      },
      "execution_count": null,
      "outputs": []
    },
    {
      "cell_type": "code",
      "source": [
        "randarr.argmin()"
      ],
      "metadata": {
        "id": "sr18lB5f-jUi"
      },
      "execution_count": null,
      "outputs": []
    },
    {
      "cell_type": "code",
      "source": [
        "arr"
      ],
      "metadata": {
        "id": "xHXGCrWa-lHZ"
      },
      "execution_count": null,
      "outputs": []
    },
    {
      "cell_type": "code",
      "source": [
        "arr.shape"
      ],
      "metadata": {
        "id": "nNUNKpUX-s2K"
      },
      "execution_count": null,
      "outputs": []
    },
    {
      "cell_type": "code",
      "source": [
        "arr.reshape(1,30)"
      ],
      "metadata": {
        "id": "zv8MXSGc-vDg"
      },
      "execution_count": null,
      "outputs": []
    },
    {
      "cell_type": "code",
      "source": [
        "arr.reshape(1,30).shape"
      ],
      "metadata": {
        "id": "AMNvOH8R-8af"
      },
      "execution_count": null,
      "outputs": []
    },
    {
      "cell_type": "code",
      "source": [
        "arr.reshape(30,1)"
      ],
      "metadata": {
        "id": "pxl2be4n-yhN"
      },
      "execution_count": null,
      "outputs": []
    },
    {
      "cell_type": "code",
      "source": [
        "arr.reshape(30,1).shape"
      ],
      "metadata": {
        "id": "0YqpWyCq-17B"
      },
      "execution_count": null,
      "outputs": []
    },
    {
      "cell_type": "markdown",
      "source": [
        "### dtype"
      ],
      "metadata": {
        "id": "q48AH2U6_AVj"
      }
    },
    {
      "cell_type": "code",
      "source": [
        "arr.dtype"
      ],
      "metadata": {
        "id": "64P8w_g4_Fjg"
      },
      "execution_count": null,
      "outputs": []
    },
    {
      "cell_type": "code",
      "source": [
        "arr_new = np.array([1.2, 3.4, 5.6])\n",
        "arr_new.dtype"
      ],
      "metadata": {
        "id": "LHQu4-cT_JOy"
      },
      "execution_count": null,
      "outputs": []
    },
    {
      "cell_type": "code",
      "source": [],
      "metadata": {
        "id": "oAS00Os2_OdF"
      },
      "execution_count": null,
      "outputs": []
    }
  ]
}